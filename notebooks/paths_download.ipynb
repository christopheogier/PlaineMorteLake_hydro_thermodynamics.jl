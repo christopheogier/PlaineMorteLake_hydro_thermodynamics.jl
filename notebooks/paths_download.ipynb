{
 "cells": [
  {
   "cell_type": "markdown",
   "metadata": {},
   "source": [
    "# Paths and download data"
   ]
  },
  {
   "cell_type": "markdown",
   "metadata": {},
   "source": [
    "This:\n",
    "\n",
    "1) Define the external path from where raw data will be downloaded, where they are stored on your local machine and where the processed data will be stored while running the others notebooks.\n",
    "\n",
    "2) Download the raw data of the 2019/20 fieldcampaign on Plaine Morte from VAW server to your local machine"
   ]
  },
  {
   "cell_type": "markdown",
   "metadata": {},
   "source": [
    "# Paths \n"
   ]
  },
  {
   "cell_type": "markdown",
   "metadata": {},
   "source": [
    "### Original (raw) data (VAW server)"
   ]
  },
  {
   "cell_type": "code",
   "execution_count": 22,
   "metadata": {},
   "outputs": [],
   "source": [
    "#Raw datas of Plaine Morte are in the parent directory of this code (i.e. one step above) \n",
    "\n",
    "const glaziodir =  \"https://people.ee.ethz.ch/~werderm/pm-data/data/\"\n",
    "\n",
    "\n",
    "#const glaziodir = if Sys.islinux()\n",
    "        #\"$(homedir())/itet-stor/glazio/projects/88007-VAW_Plaine_Morte_Faverges/data/\"\n",
    "    #else\n",
    "        ##Christoph's comment: my itet-stor directory is not in home... So I manually write where it actually is: :S/\n",
    "        #\"S:/glazio/projects/88007-VAW_Plaine_Morte_Faverges/data/\"; \n",
    "    #end"
   ]
  },
  {
   "cell_type": "markdown",
   "metadata": {},
   "source": [
    "### Local directory on your own machine"
   ]
  },
  {
   "cell_type": "code",
   "execution_count": 23,
   "metadata": {},
   "outputs": [
    {
     "data": {
      "text/plain": [
       "\"C:\\\\Users\\\\christophe\\\\Desktop\\\\home\\\\GitHub\\\\PlaineMorteLake_hydro_thermodynamics\\\\notebooks\\\\../data/Channel_elevation\""
      ]
     },
     "execution_count": 23,
     "metadata": {},
     "output_type": "execute_result"
    }
   ],
   "source": [
    "#Raw datas on your own machine are stored on the following (created) directory:\n",
    "#@__DIR__ return your current local path: where the notebook is running\n",
    "\n",
    "#data\n",
    "path_data = mkpath(joinpath(@__DIR__, \"../data\")) *\"/\"\n",
    "# CTD\n",
    "path_CTD =  mkpath(joinpath(@__DIR__, \"../data/CTD\")) *\"/\"\n",
    "#DC22\n",
    "path_DC22 = mkpath(joinpath(@__DIR__, \"../data/DC22\")) *\"/\"\n",
    "#lake data\n",
    "path_lake = mkpath(joinpath(@__DIR__, \"../data/lake_data\")) *\"/\"\n",
    "#SR50\n",
    "mkpath(joinpath(@__DIR__, \"../data/SR50\"));\n",
    "# fieldbook\n",
    "mkpath(joinpath(@__DIR__, \"../data/Salt_injections\"))\n",
    "#channel elevation\n",
    "mkpath(joinpath(@__DIR__, \"../data/Channel_elevation\"))"
   ]
  },
  {
   "cell_type": "markdown",
   "metadata": {},
   "source": [
    "### Local directory of processed data (products) on your own machine"
   ]
  },
  {
   "cell_type": "code",
   "execution_count": 24,
   "metadata": {},
   "outputs": [],
   "source": [
    "#Processed data (or \"product\")\n",
    "mkpath(joinpath(@__DIR__, \"../products/\"))\n",
    "mkpath(joinpath(@__DIR__, \"../products/plots/\"))\n",
    "mkpath(joinpath(@__DIR__, \"../products/plots/calibration_conductivity\"))\n",
    "mkpath(joinpath(@__DIR__, \"../products/plots/calibration_temperature\"))\n",
    "\n",
    "path_products = joinpath(@__DIR__, \"../products/\")\n",
    "path_plots = path_products *\"plots/\";\n",
    "path_results_cali_cond = path_plots * \"calibration_conductivity/\";\n",
    "path_results_cali_temp = path_plots * \"calibration_temperature/\";"
   ]
  },
  {
   "cell_type": "markdown",
   "metadata": {},
   "source": [
    "# Function `download`"
   ]
  },
  {
   "cell_type": "code",
   "execution_count": 25,
   "metadata": {},
   "outputs": [
    {
     "data": {
      "text/plain": [
       "download_all"
      ]
     },
     "execution_count": 25,
     "metadata": {},
     "output_type": "execute_result"
    }
   ],
   "source": [
    "\"\"\"\n",
    "    download_file(url, destination_file, force_download=false)\n",
    "\n",
    "Download a file, if it has not been downloaded already.\n",
    "Input:\n",
    "- url -- url for download\n",
    "- destination_file -- path of the file to store the download\n",
    "- force_download -- force the download, even if file is present\n",
    "\n",
    "Output: nothing\n",
    "\n",
    "\"\"\"\n",
    "function download_file(url, destination_file, force_download=false)\n",
    "    if !isfile(destination_file) || force_download\n",
    "        download(url, destination_file)\n",
    "    end\n",
    "    return nothing\n",
    "end\n",
    "\n",
    "\n",
    "\n",
    "\"\"\"\n",
    "    download_all()\n",
    "Download all files related to CTD and DC22 data from glaziodir (VAW server) to your local machine\n",
    "\"\"\"\n",
    "function download_all(; force=false)\n",
    "    # traces\n",
    "    download_file(joinpath(glaziodir,\"Salt_injections/Salt_injections.csv\"),\n",
    "                  \"../data/Salt_injections/Salt_injections.csv\", force)\n",
    "    \n",
    "    #channel elevation\n",
    "    elevation = readdir(joinpath(glaziodir, \"Channel_elevation\"))\n",
    "    for f in elevation\n",
    "            download_file(glaziodir * \"Channel_elevation/$f\",\n",
    "                    \"../data/Channel_elevation/$f\", force)\n",
    "    end\n",
    "        \n",
    "\n",
    "\n",
    "    #CTD\n",
    "    dates = readdir(joinpath(glaziodir, \"CTD\")) #Add a step to explore \"2019-07-16\" folder, and then the csv which is inside....\n",
    "    ctd = []\n",
    "    for i in dates\n",
    "        c = readdir(joinpath(glaziodir, \"CTD/$i\"))  #keyword are supported in Julia 1.4. example: sort\n",
    "        push!(ctd, c)\n",
    "    end\n",
    "\n",
    "    for (i,j) in zip(dates, 1:length(dates))\n",
    "        if !isdir(joinpath(@__DIR__, \"../data/CTD\",\"$i\"))\n",
    "            mkdir(joinpath(@__DIR__, \"../data/CTD\",\"$i\"))\n",
    "        end\n",
    "        for f in ctd[j]\n",
    "            download_file(joinpath(glaziodir, \"../data/CTD\",\"$i\",\"$f\"), joinpath(path_CTD,\"$i\",\"$f\"))\n",
    "        end\n",
    "    end\n",
    "\n",
    "    #DC22 (pressure)\n",
    "    pressure = readdir(joinpath(glaziodir, \"DC22\"))\n",
    "    for f in pressure\n",
    "        download_file(glaziodir * \"DC22/$f\",joinpath(path_data, \"DC22/$f\"), force)\n",
    "\n",
    "        #Lake\n",
    "        lake = readdir(joinpath(glaziodir, \"lake_data\"))\n",
    "        for f in lake\n",
    "            download_file(glaziodir * \"lake_data/$f\",joinpath(path_lake, \"$f\"), force)\n",
    "        end\n",
    "\n",
    "        #SR50\n",
    "        SR50 = readdir(joinpath(glaziodir,  \"SR50\"))\n",
    "        for f in SR50\n",
    "            download_file(glaziodir *  \"SR50/$f\",joinpath(path_data,\"SR50/\", \"$f\"), force)\n",
    "        end\n",
    "    end\n",
    "end"
   ]
  },
  {
   "cell_type": "markdown",
   "metadata": {},
   "source": [
    "# Download and store in your local environment\n",
    "If not already done"
   ]
  },
  {
   "cell_type": "code",
   "execution_count": 26,
   "metadata": {},
   "outputs": [
    {
     "name": "stderr",
     "output_type": "stream",
     "text": [
      "┌ Warning: Not downloading as https://people.ee.ethz.ch/~werderm/pm-data/data/ is not available\n",
      "└ @ Main In[26]:4\n"
     ]
    }
   ],
   "source": [
    "if isdir(glaziodir) # so this does not error when there is no network\n",
    "    download_all()\n",
    "else\n",
    "    @warn \"Not downloading as $glaziodir is not available\"\n",
    "end"
   ]
  },
  {
   "cell_type": "code",
   "execution_count": null,
   "metadata": {},
   "outputs": [],
   "source": []
  }
 ],
 "metadata": {
  "kernelspec": {
   "display_name": "Julia 1.5.1",
   "language": "julia",
   "name": "julia-1.5"
  },
  "language_info": {
   "file_extension": ".jl",
   "mimetype": "application/julia",
   "name": "julia",
   "version": "1.5.1"
  }
 },
 "nbformat": 4,
 "nbformat_minor": 2
}
