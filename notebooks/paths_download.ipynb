{
 "cells": [
  {
   "cell_type": "markdown",
   "metadata": {},
   "source": [
    "# Paths and download data"
   ]
  },
  {
   "cell_type": "markdown",
   "metadata": {},
   "source": [
    "This define the path where data are stored on your local machine (where you have downloaded them) and where the processed data will be stored while running the others notebooks (i.e in the same folder)."
   ]
  },
  {
   "cell_type": "markdown",
   "metadata": {},
   "source": [
    "# Paths \n"
   ]
  },
  {
   "cell_type": "markdown",
   "metadata": {},
   "source": [
    "### Original (raw) data in the un-zip file: `PlaineMorteLake_hydro_thermodynamics`"
   ]
  },
  {
   "cell_type": "code",
   "execution_count": 39,
   "metadata": {},
   "outputs": [],
   "source": [
    "#data\n",
    "path_data = joinpath(dirname(dirname(pwd())),\"data\")*\"/\" #dirname go back in your folder tree\n",
    "\n",
    "#sub folder in data/\n",
    "# CTD\n",
    "path_CTD =  joinpath(path_data, \"CTD\") *\"/\"\n",
    "#DC22\n",
    "path_DC22 = joinpath(path_data, \"DC22\") *\"/\"\n",
    "#lake data\n",
    "path_lake = joinpath(path_data, \"lake_data\") *\"/\";"
   ]
  },
  {
   "cell_type": "markdown",
   "metadata": {},
   "source": [
    "### Local directory of processed data (products) on your own machine"
   ]
  },
  {
   "cell_type": "code",
   "execution_count": 41,
   "metadata": {},
   "outputs": [],
   "source": [
    "#products main folder\n",
    "path_products =  joinpath(dirname(dirname(pwd())),\"products/\")\n",
    "#sub-folder in products/\n",
    "path_plots = path_products *\"plots/\";\n",
    "path_results_cali_cond = path_plots * \"calibration_conductivity/\";\n",
    "path_results_cali_temp = path_plots * \"calibration_temperature/\";\n",
    "\n",
    "#Create products folder tree, if not already existing\n",
    "mkpath(path_products)\n",
    "mkpath(path_plots)\n",
    "mkpath(path_results_cali_cond)\n",
    "mkpath(path_results_cali_temp);\n"
   ]
  }
 ],
 "metadata": {
  "kernelspec": {
   "display_name": "Julia 1.5.1",
   "language": "julia",
   "name": "julia-1.5"
  },
  "language_info": {
   "file_extension": ".jl",
   "mimetype": "application/julia",
   "name": "julia",
   "version": "1.5.1"
  }
 },
 "nbformat": 4,
 "nbformat_minor": 2
}
