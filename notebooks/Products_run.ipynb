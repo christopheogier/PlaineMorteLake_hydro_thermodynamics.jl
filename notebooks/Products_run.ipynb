{
 "cells": [
  {
   "cell_type": "markdown",
   "metadata": {},
   "source": [
    "# Products (=data processed) run all in once and store in your machine"
   ]
  },
  {
   "cell_type": "markdown",
   "metadata": {},
   "source": [
    "This is a compilation (thanks to `NBInclude` package) from all datas processed in other notebooks. The order is respected to make the compilation possible. If not already done, the products (CSV files) are stored in `path_products`  "
   ]
  },
  {
   "cell_type": "code",
   "execution_count": null,
   "metadata": {},
   "outputs": [],
   "source": [
    "##To check if packages are up-dated in your working environement:\n",
    "#using Pkg\n",
    "#Pkg.update()"
   ]
  },
  {
   "cell_type": "code",
   "execution_count": 7,
   "metadata": {},
   "outputs": [],
   "source": [
    "using NBInclude"
   ]
  },
  {
   "cell_type": "code",
   "execution_count": 12,
   "metadata": {},
   "outputs": [
    {
     "name": "stderr",
     "output_type": "stream",
     "text": [
      "┌ Warning: Not downloading as https://people.ee.ethz.ch/~werderm/pm-data/data/ is not available\n",
      "└ @ Main C:\\Users\\christophe\\Desktop\\home\\GitHub\\PlaineMorteLake_hydro_thermodynamics\\notebooks\\paths_download.ipynb:In[11]:4\n",
      "┌ Warning: Not downloading as https://people.ee.ethz.ch/~werderm/pm-data/data/ is not available\n",
      "└ @ Main C:\\Users\\christophe\\Desktop\\home\\GitHub\\PlaineMorteLake_hydro_thermodynamics\\notebooks\\paths_download.ipynb:In[11]:4\n"
     ]
    },
    {
     "ename": "LoadError",
     "evalue": "LoadError: \u001b[91mArgumentError: Cannot open 'C:\\Users\\christophe\\Desktop\\home\\GitHub\\PlaineMorteLake_hydro_thermodynamics\\notebooks\\../data/CTD/PLM_atmo_pressure/PLM_atmo_pressure_2019.csv': not a file\u001b[39m\nin expression starting at C:\\Users\\christophe\\Desktop\\home\\GitHub\\PlaineMorteLake_hydro_thermodynamics\\notebooks\\helper-functions.ipynb:In[5]:4",
     "output_type": "error",
     "traceback": [
      "LoadError: \u001b[91mArgumentError: Cannot open 'C:\\Users\\christophe\\Desktop\\home\\GitHub\\PlaineMorteLake_hydro_thermodynamics\\notebooks\\../data/CTD/PLM_atmo_pressure/PLM_atmo_pressure_2019.csv': not a file\u001b[39m\nin expression starting at C:\\Users\\christophe\\Desktop\\home\\GitHub\\PlaineMorteLake_hydro_thermodynamics\\notebooks\\helper-functions.ipynb:In[5]:4",
      "",
      "Stacktrace:",
      " [1] readdlm_auto(::String, ::Char, ::Type{T} where T, ::Char, ::Bool; opts::Base.Iterators.Pairs{Symbol,Bool,Tuple{Symbol},NamedTuple{(:header,),Tuple{Bool}}}) at D:\\buildbot\\worker\\package_win64\\build\\usr\\share\\julia\\stdlib\\v1.5\\DelimitedFiles\\src\\DelimitedFiles.jl:233",
      " [2] #readdlm#5 at D:\\buildbot\\worker\\package_win64\\build\\usr\\share\\julia\\stdlib\\v1.5\\DelimitedFiles\\src\\DelimitedFiles.jl:170 [inlined]",
      " [3] #readdlm#4 at D:\\buildbot\\worker\\package_win64\\build\\usr\\share\\julia\\stdlib\\v1.5\\DelimitedFiles\\src\\DelimitedFiles.jl:162 [inlined]",
      " [4] top-level scope at C:\\Users\\christophe\\Desktop\\home\\GitHub\\PlaineMorteLake_hydro_thermodynamics\\notebooks\\helper-functions.ipynb:In[5]:4",
      " [5] include_string(::Function, ::Module, ::String, ::String) at .\\loading.jl:1091",
      " [6] softscope_include_string at C:\\Users\\christophe\\.julia\\packages\\SoftGlobalScope\\u4UzH\\src\\SoftGlobalScope.jl:65 [inlined]",
      " [7] my_include_string(::Module, ::String, ::String, ::Nothing, ::Bool) at C:\\Users\\christophe\\.julia\\packages\\NBInclude\\mNhzW\\src\\NBInclude.jl:29",
      " [8] nbinclude(::Module, ::String; renumber::Bool, counters::UnitRange{Int64}, regex::Regex, anshook::typeof(identity), softscope::Bool) at C:\\Users\\christophe\\.julia\\packages\\NBInclude\\mNhzW\\src\\NBInclude.jl:82",
      " [9] top-level scope at In[12]:2",
      " [10] include_string(::Function, ::Module, ::String, ::String) at .\\loading.jl:1091"
     ]
    }
   ],
   "source": [
    "@nbinclude(\"paths_download.ipynb\"; softscope=true);\n",
    "@nbinclude(\"helper-functions.ipynb\"; softscope=true);\n",
    "@nbinclude(\"Conductivity_calibration_CTD.ipynb\"; softscope=true);\n",
    "@nbinclude(\"Temperature_calibration_CTD.ipynb\"; softscope=true);\n",
    "@nbinclude(\"Lake_data.ipynb\"; softscope=true);\n",
    "@nbinclude(\"Temperature_and_Stage.ipynb\"; softscope=true);\n",
    "@nbinclude(\"Channel_geometry.ipynb\"; softscope=true);\n",
    "@nbinclude(\"P1_Discharges.ipynb\"; softscope=true);\n",
    "@nbinclude(\"P2_Discharges.ipynb\"; softscope=true);\n",
    "@nbinclude(\"P3_Discharges.ipynb\"; softscope=true);\n",
    "@nbinclude(\"Discharge_homogenization.ipynb\"; softscope=true);\n",
    "@nbinclude(\"Temperature_visualization.ipynb\"; softscope=true);\n",
    "@nbinclude(\"Hydraulic_thermodynamics_parameters.ipynb\"; softscope=true);\n"
   ]
  },
  {
   "cell_type": "code",
   "execution_count": 9,
   "metadata": {},
   "outputs": [
    {
     "name": "stderr",
     "output_type": "stream",
     "text": [
      "┌ Warning: Not downloading as https://people.ee.ethz.ch/~werderm/pm-data/ is not available\n",
      "└ @ Main C:\\Users\\christophe\\Desktop\\home\\GitHub\\PlaineMorteLake_hydro_thermodynamics\\notebooks\\paths_download.ipynb:In[6]:4\n"
     ]
    },
    {
     "ename": "LoadError",
     "evalue": "LoadError: LoadError: \u001b[91mArgumentError: Cannot open 'C:\\Users\\christophe\\Desktop\\home\\GitHub\\PlaineMorteLake_hydro_thermodynamics\\notebooks\\../data/CTD/PLM_atmo_pressure/PLM_atmo_pressure_2019.csv': not a file\u001b[39m\nin expression starting at C:\\Users\\christophe\\Desktop\\home\\GitHub\\PlaineMorteLake_hydro_thermodynamics\\notebooks\\helper-functions.ipynb:In[5]:4\nin expression starting at C:\\Users\\christophe\\Desktop\\home\\GitHub\\PlaineMorteLake_hydro_thermodynamics\\notebooks\\Figure6.ipynb:In[1]:4",
     "output_type": "error",
     "traceback": [
      "LoadError: LoadError: \u001b[91mArgumentError: Cannot open 'C:\\Users\\christophe\\Desktop\\home\\GitHub\\PlaineMorteLake_hydro_thermodynamics\\notebooks\\../data/CTD/PLM_atmo_pressure/PLM_atmo_pressure_2019.csv': not a file\u001b[39m\nin expression starting at C:\\Users\\christophe\\Desktop\\home\\GitHub\\PlaineMorteLake_hydro_thermodynamics\\notebooks\\helper-functions.ipynb:In[5]:4\nin expression starting at C:\\Users\\christophe\\Desktop\\home\\GitHub\\PlaineMorteLake_hydro_thermodynamics\\notebooks\\Figure6.ipynb:In[1]:4",
      "",
      "Stacktrace:",
      " [1] readdlm_auto(::String, ::Char, ::Type{T} where T, ::Char, ::Bool; opts::Base.Iterators.Pairs{Symbol,Bool,Tuple{Symbol},NamedTuple{(:header,),Tuple{Bool}}}) at D:\\buildbot\\worker\\package_win64\\build\\usr\\share\\julia\\stdlib\\v1.5\\DelimitedFiles\\src\\DelimitedFiles.jl:233",
      " [2] #readdlm#5 at D:\\buildbot\\worker\\package_win64\\build\\usr\\share\\julia\\stdlib\\v1.5\\DelimitedFiles\\src\\DelimitedFiles.jl:170 [inlined]",
      " [3] #readdlm#4 at D:\\buildbot\\worker\\package_win64\\build\\usr\\share\\julia\\stdlib\\v1.5\\DelimitedFiles\\src\\DelimitedFiles.jl:162 [inlined]",
      " [4] top-level scope at C:\\Users\\christophe\\Desktop\\home\\GitHub\\PlaineMorteLake_hydro_thermodynamics\\notebooks\\helper-functions.ipynb:In[5]:4",
      " [5] include_string(::Function, ::Module, ::String, ::String) at .\\loading.jl:1088",
      " [6] include_string at .\\loading.jl:1096 [inlined]",
      " [7] my_include_string(::Module, ::String, ::String, ::String, ::Bool) at C:\\Users\\christophe\\.julia\\packages\\NBInclude\\mNhzW\\src\\NBInclude.jl:29",
      " [8] nbinclude(::Module, ::String; renumber::Bool, counters::UnitRange{Int64}, regex::Regex, anshook::typeof(identity), softscope::Bool) at C:\\Users\\christophe\\.julia\\packages\\NBInclude\\mNhzW\\src\\NBInclude.jl:82",
      " [9] nbinclude(::Module, ::String) at C:\\Users\\christophe\\.julia\\packages\\NBInclude\\mNhzW\\src\\NBInclude.jl:53",
      " [10] top-level scope at C:\\Users\\christophe\\Desktop\\home\\GitHub\\PlaineMorteLake_hydro_thermodynamics\\notebooks\\Figure6.ipynb:In[1]:4",
      " [11] include_string(::Function, ::Module, ::String, ::String) at .\\loading.jl:1091",
      " [12] softscope_include_string at C:\\Users\\christophe\\.julia\\packages\\SoftGlobalScope\\u4UzH\\src\\SoftGlobalScope.jl:65 [inlined]",
      " [13] my_include_string(::Module, ::String, ::String, ::Nothing, ::Bool) at C:\\Users\\christophe\\.julia\\packages\\NBInclude\\mNhzW\\src\\NBInclude.jl:29",
      " [14] nbinclude(::Module, ::String; renumber::Bool, counters::UnitRange{Int64}, regex::Regex, anshook::typeof(identity), softscope::Bool) at C:\\Users\\christophe\\.julia\\packages\\NBInclude\\mNhzW\\src\\NBInclude.jl:82",
      " [15] top-level scope at In[9]:2",
      " [16] include_string(::Function, ::Module, ::String, ::String) at .\\loading.jl:1091"
     ]
    }
   ],
   "source": [
    "#The following notebook don't product data analysis\n",
    "@nbinclude(\"Figure6.ipynb\"; softscope=true);\n",
    "@nbinclude(\"Raymond&Nolan2000_Theory.ipynb\"; softscope=true);"
   ]
  },
  {
   "cell_type": "code",
   "execution_count": null,
   "metadata": {},
   "outputs": [],
   "source": []
  }
 ],
 "metadata": {
  "@webio": {
   "lastCommId": null,
   "lastKernelId": null
  },
  "kernelspec": {
   "display_name": "Julia 1.5.1",
   "language": "julia",
   "name": "julia-1.5"
  },
  "language_info": {
   "file_extension": ".jl",
   "mimetype": "application/julia",
   "name": "julia",
   "version": "1.5.1"
  }
 },
 "nbformat": 4,
 "nbformat_minor": 2
}
